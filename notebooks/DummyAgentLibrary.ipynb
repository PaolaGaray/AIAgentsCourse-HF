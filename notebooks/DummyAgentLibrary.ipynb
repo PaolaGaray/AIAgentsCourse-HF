{
 "cells": [
  {
   "cell_type": "code",
   "execution_count": 3,
   "id": "79a1a013-ef73-448b-8edf-2bec3b1cc429",
   "metadata": {},
   "outputs": [],
   "source": [
    "import os\n",
    "from huggingface_hub import InferenceClient\n",
    "\n",
    "client = InferenceClient(\"meta-llama/Meta-Llama-3-8B-Instruct\")"
   ]
  },
  {
   "cell_type": "code",
   "execution_count": 11,
   "id": "a2098d7e-73d0-4f67-872f-36f935403b8c",
   "metadata": {},
   "outputs": [
    {
     "name": "stdout",
     "output_type": "stream",
     "text": [
      " The capital of Germany is Berlin. Berlin is the largest city in Germany and is located in the eastern part of the country. It is a major cultural, economic, and political center, and is home to many important landmarks, museums, and cultural institutions\n"
     ]
    }
   ],
   "source": [
    "output = client.text_generation(\n",
    "    \"What is the Capital of Germany?\",\n",
    "    max_new_tokens=50 \n",
    ")\n",
    "\n",
    "print(output)"
   ]
  },
  {
   "cell_type": "code",
   "execution_count": 17,
   "id": "aed1a02a-8a79-4fbf-a7b2-828da07916de",
   "metadata": {},
   "outputs": [
    {
     "name": "stdout",
     "output_type": "stream",
     "text": [
      " The capital of Germany is Berlin.\n"
     ]
    }
   ],
   "source": [
    "output = client.text_generation(\n",
    "    \"What is the Capital of Germany?\",\n",
    "    max_new_tokens=50,\n",
    "    stop_sequences=[\".\"] \n",
    ")\n",
    "\n",
    "print(output)"
   ]
  },
  {
   "cell_type": "markdown",
   "id": "731b74f9-e4c3-4f8e-a234-58a5fbb9c192",
   "metadata": {},
   "source": [
    "# Dummy Agent"
   ]
  },
  {
   "cell_type": "code",
   "execution_count": 46,
   "id": "c65b79f3-75d8-4bf6-85ac-9790fb1177f7",
   "metadata": {},
   "outputs": [
    {
     "name": "stdout",
     "output_type": "stream",
     "text": [
      " You can use any online JSON validator to check.\n",
      "\n",
      "    Example:\n",
      "    {\n",
      "    \"action\": \"get_weather\",\n",
      "    \"action_input\": {\n",
      "        \"location\": \"London\"\n",
      "    }\n",
      "}\n",
      "\n",
      "\n"
     ]
    }
   ],
   "source": [
    "prompt = \"\"\"Provide a JSON following this format:\n",
    "    { \"action\": \"get_weather\", \"action_input\": {\"location\": \"London\"} }\n",
    "    Make sure the JSON fully closed. \"\"\"\n",
    "\n",
    "output = client.text_generation(\n",
    "    prompt,\n",
    "    max_new_tokens=50,  # Más tokens para asegurarnos de que termine\n",
    "    stop_sequences=[\"\\n}\\n\"]  # Se detiene después de la última llave de cierre\n",
    ")\n",
    "\n",
    "print(output)"
   ]
  },
  {
   "cell_type": "code",
   "execution_count": 48,
   "id": "60fd2c96-ec6a-4fd1-9792-3b5ce5231cf9",
   "metadata": {},
   "outputs": [
    {
     "name": "stdout",
     "output_type": "stream",
     "text": [
      "The weather in London is sunny with temperatures around 20°C.\n",
      "\n"
     ]
    }
   ],
   "source": [
    "import json\n",
    "\n",
    "# Guardamos la respuesta del modelo\n",
    "model_output = \"\"\"{\n",
    "  \"action\": \"get_weather\",\n",
    "  \"action_input\": {\n",
    "    \"location\": \"London\"\n",
    "  }\n",
    "}\"\"\"\n",
    "\n",
    "# Convertimos la salida en un diccionario de Python\n",
    "response_dict = json.loads(model_output)\n",
    "\n",
    "# Extraemos la ubicación solicitada por el modelo\n",
    "location = response_dict[\"action_input\"][\"location\"]\n",
    "\n",
    "# Definimos una función para obtener el clima\n",
    "def get_weather(location):\n",
    "    return f\"The weather in {location} is sunny with temperatures around 20°C.\\n\"\n",
    "\n",
    "# Llamamos a la función con la ubicación proporcionada\n",
    "weather_result = get_weather(location)\n",
    "\n",
    "# Mostramos el resultado\n",
    "print(weather_result)\n"
   ]
  }
 ],
 "metadata": {
  "kernelspec": {
   "display_name": "Python 3 (ipykernel)",
   "language": "python",
   "name": "python3"
  },
  "language_info": {
   "codemirror_mode": {
    "name": "ipython",
    "version": 3
   },
   "file_extension": ".py",
   "mimetype": "text/x-python",
   "name": "python",
   "nbconvert_exporter": "python",
   "pygments_lexer": "ipython3",
   "version": "3.12.2"
  }
 },
 "nbformat": 4,
 "nbformat_minor": 5
}
